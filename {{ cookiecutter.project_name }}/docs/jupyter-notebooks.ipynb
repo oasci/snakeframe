{
 "cells": [
  {
   "cell_type": "markdown",
   "id": "ec11380e-14ad-45b8-9689-489dc608a444",
   "metadata": {},
   "source": [
    "# Jupyter Notebooks\n",
    "\n",
    "We are able to use [Jupyter notebooks](https://jupyter.org/) for documents with the help of [MyST-nb](https://myst-nb.readthedocs.io/en/latest/)."
   ]
  },
  {
   "cell_type": "code",
   "execution_count": 1,
   "id": "d226b548",
   "metadata": {},
   "outputs": [
    {
     "name": "stdout",
     "output_type": "stream",
     "text": [
      "hello world!\n"
     ]
    }
   ],
   "source": [
    "print(\"hello world!\")"
   ]
  }
 ],
 "metadata": {
  "kernelspec": {
   "display_name": "Python 3 (ipykernel)",
   "language": "python",
   "name": "python3"
  },
  "language_info": {
   "codemirror_mode": {
    "name": "ipython",
    "version": 3
   },
   "file_extension": ".py",
   "mimetype": "text/x-python",
   "name": "python",
   "nbconvert_exporter": "python",
   "pygments_lexer": "ipython3",
   "version": "3.11.6"
  }
 },
 "nbformat": 4,
 "nbformat_minor": 5
}
